{
 "cells": [
  {
   "cell_type": "code",
   "execution_count": 46,
   "metadata": {
    "collapsed": true
   },
   "outputs": [],
   "source": [
    "# Importing Necessary modules\n",
    "\n",
    "import numpy as np\n",
    "import pandas as pd\n",
    "import matplotlib.pyplot as plt\n",
    "%matplotlib inline\n",
    "from sklearn.preprocessing import LabelEncoder"
   ]
  },
  {
   "cell_type": "code",
   "execution_count": 47,
   "metadata": {
    "collapsed": true
   },
   "outputs": [],
   "source": [
    "import warnings\n",
    "warnings.filterwarnings('ignore')"
   ]
  },
  {
   "cell_type": "code",
   "execution_count": 48,
   "metadata": {
    "collapsed": true
   },
   "outputs": [],
   "source": [
    "## Reading train and test CSV files\n",
    "\n",
    "train_cont=pd.read_csv('Train_contacts.csv')\n",
    "train_res=pd.read_csv('Train_resolution.csv')\n",
    "test_cont=pd.read_csv('Test_contacts.csv')\n",
    "test_res=pd.read_csv('Test_resolution.csv')"
   ]
  },
  {
   "cell_type": "code",
   "execution_count": 49,
   "metadata": {
    "collapsed": true
   },
   "outputs": [],
   "source": [
    "## Splitting Date columns into Date , Month and Year columns\n",
    "\n",
    "train_cont['Month'],train_cont['Date'],train_cont['Year']=train_cont['DATE'].str.split('/').str\n",
    "train_cont.drop('DATE',axis=1,inplace=True)\n",
    "\n",
    "train_res['Month'],train_res['Date'],train_res['Year']=train_res['Date'].str.split('/').str\n",
    "\n",
    "test_cont['Month'],test_cont['Date'],test_cont['Year']=test_cont['Date'].str.split('/').str\n",
    "\n",
    "test_res['Month'],test_res['Date'],test_res['Year']=test_res['Date'].str.split('/').str"
   ]
  },
  {
   "cell_type": "code",
   "execution_count": 50,
   "metadata": {
    "collapsed": false
   },
   "outputs": [],
   "source": [
    "## Creating dummies for CONTACT.TYPE for train_cont and concatenating\n",
    "\n",
    "train_cont_dummy=pd.get_dummies(train_cont['CONTACT.TYPE'],prefix='type')\n",
    "train_cont_dummy.drop('type_Tweet - Input',axis=1,inplace=True)\n",
    "\n",
    "train_cont=pd.concat([train_cont,train_cont_dummy],axis=1)\n",
    "train_cont.drop('CONTACT.TYPE',axis=1,inplace=True)"
   ]
  },
  {
   "cell_type": "code",
   "execution_count": 51,
   "metadata": {
    "collapsed": true
   },
   "outputs": [],
   "source": [
    "## Creating dummies for CONTACT.TYPE for test_cont and concatenating\n",
    "\n",
    "test_cont_dummy=pd.get_dummies(test_cont['CONTACT.TYPE'],prefix='type')\n",
    "test_cont_dummy.drop('type_Tweet - Input',axis=1,inplace=True)\n",
    "\n",
    "test_cont=pd.concat([test_cont,test_cont_dummy],axis=1)\n",
    "test_cont.drop('CONTACT.TYPE',axis=1,inplace=True)"
   ]
  },
  {
   "cell_type": "code",
   "execution_count": 53,
   "metadata": {
    "collapsed": false
   },
   "outputs": [],
   "source": [
    "## Creating dummies for Category for train_res and concatenating\n",
    "\n",
    "train_res_dummy = pd.get_dummies(train_res['Category'],prefix='cat')\n",
    "train_res_dummy.drop('cat_Non Compliance',axis=1,inplace=True)\n",
    "\n",
    "train_res = pd.concat([train_res,train_res_dummy],axis=1)\n",
    "train_res.drop(['Category'],axis=1,inplace=True)"
   ]
  },
  {
   "cell_type": "code",
   "execution_count": 54,
   "metadata": {
    "collapsed": false
   },
   "outputs": [],
   "source": [
    "## Converting into labels for Subject for train_res and concatenating\n",
    "\n",
    "l = LabelEncoder().fit(train_res['Subject'])\n",
    "train_res['Sub'] = l.fit_transform(train_res['Subject'])\n",
    "train_res.drop('Subject', axis=1, inplace=True)"
   ]
  },
  {
   "cell_type": "code",
   "execution_count": 55,
   "metadata": {
    "collapsed": false
   },
   "outputs": [],
   "source": [
    "## Creating dummies for Category for test_res and concatenating\n",
    "\n",
    "test_res_dummy = pd.get_dummies(test_res['Category'],prefix='cat')\n",
    "test_res_dummy.drop('cat_Non Compliance',axis=1,inplace=True)\n",
    "\n",
    "test_res = pd.concat([test_res,test_res_dummy],axis=1)\n",
    "test_res.drop(['Category'],axis=1,inplace=True)"
   ]
  },
  {
   "cell_type": "code",
   "execution_count": 56,
   "metadata": {
    "collapsed": false
   },
   "outputs": [],
   "source": [
    "## Converting into labels for Subject for test_res and concatenating\n",
    "\n",
    "test_res['Sub'] = l.fit_transform(test_res['Subject'])\n",
    "test_res.drop('Subject', axis=1, inplace=True)"
   ]
  },
  {
   "cell_type": "code",
   "execution_count": 66,
   "metadata": {
    "collapsed": false
   },
   "outputs": [
    {
     "data": {
      "text/html": [
       "<div>\n",
       "<table border=\"1\" class=\"dataframe\">\n",
       "  <thead>\n",
       "    <tr style=\"text-align: right;\">\n",
       "      <th></th>\n",
       "      <th>Contacts</th>\n",
       "      <th>Month</th>\n",
       "      <th>Date</th>\n",
       "      <th>Year</th>\n",
       "      <th>type_Call - Input</th>\n",
       "      <th>type_Fax - Input</th>\n",
       "      <th>type_Fax Acknowledgement - Input</th>\n",
       "      <th>type_Installation Report - Input</th>\n",
       "      <th>type_Internal Management</th>\n",
       "      <th>type_Mail - Input</th>\n",
       "      <th>type_Mail - Recieved</th>\n",
       "      <th>type_Visit</th>\n",
       "      <th>type_Web - Input</th>\n",
       "    </tr>\n",
       "  </thead>\n",
       "  <tbody>\n",
       "    <tr>\n",
       "      <th>0</th>\n",
       "      <td>84</td>\n",
       "      <td>1</td>\n",
       "      <td>1</td>\n",
       "      <td>2010</td>\n",
       "      <td>1.0</td>\n",
       "      <td>0.0</td>\n",
       "      <td>0.0</td>\n",
       "      <td>0.0</td>\n",
       "      <td>0.0</td>\n",
       "      <td>0.0</td>\n",
       "      <td>0.0</td>\n",
       "      <td>0.0</td>\n",
       "      <td>0.0</td>\n",
       "    </tr>\n",
       "    <tr>\n",
       "      <th>1</th>\n",
       "      <td>11</td>\n",
       "      <td>1</td>\n",
       "      <td>1</td>\n",
       "      <td>2010</td>\n",
       "      <td>0.0</td>\n",
       "      <td>0.0</td>\n",
       "      <td>0.0</td>\n",
       "      <td>0.0</td>\n",
       "      <td>0.0</td>\n",
       "      <td>0.0</td>\n",
       "      <td>0.0</td>\n",
       "      <td>0.0</td>\n",
       "      <td>1.0</td>\n",
       "    </tr>\n",
       "    <tr>\n",
       "      <th>2</th>\n",
       "      <td>236</td>\n",
       "      <td>1</td>\n",
       "      <td>2</td>\n",
       "      <td>2010</td>\n",
       "      <td>1.0</td>\n",
       "      <td>0.0</td>\n",
       "      <td>0.0</td>\n",
       "      <td>0.0</td>\n",
       "      <td>0.0</td>\n",
       "      <td>0.0</td>\n",
       "      <td>0.0</td>\n",
       "      <td>0.0</td>\n",
       "      <td>0.0</td>\n",
       "    </tr>\n",
       "    <tr>\n",
       "      <th>3</th>\n",
       "      <td>21</td>\n",
       "      <td>1</td>\n",
       "      <td>2</td>\n",
       "      <td>2010</td>\n",
       "      <td>0.0</td>\n",
       "      <td>0.0</td>\n",
       "      <td>0.0</td>\n",
       "      <td>0.0</td>\n",
       "      <td>0.0</td>\n",
       "      <td>0.0</td>\n",
       "      <td>0.0</td>\n",
       "      <td>0.0</td>\n",
       "      <td>1.0</td>\n",
       "    </tr>\n",
       "    <tr>\n",
       "      <th>4</th>\n",
       "      <td>1</td>\n",
       "      <td>1</td>\n",
       "      <td>2</td>\n",
       "      <td>2010</td>\n",
       "      <td>1.0</td>\n",
       "      <td>0.0</td>\n",
       "      <td>0.0</td>\n",
       "      <td>0.0</td>\n",
       "      <td>0.0</td>\n",
       "      <td>0.0</td>\n",
       "      <td>0.0</td>\n",
       "      <td>0.0</td>\n",
       "      <td>0.0</td>\n",
       "    </tr>\n",
       "  </tbody>\n",
       "</table>\n",
       "</div>"
      ],
      "text/plain": [
       "   Contacts Month Date  Year  type_Call - Input  type_Fax - Input  \\\n",
       "0        84     1    1  2010                1.0               0.0   \n",
       "1        11     1    1  2010                0.0               0.0   \n",
       "2       236     1    2  2010                1.0               0.0   \n",
       "3        21     1    2  2010                0.0               0.0   \n",
       "4         1     1    2  2010                1.0               0.0   \n",
       "\n",
       "   type_Fax Acknowledgement - Input  type_Installation Report - Input  \\\n",
       "0                               0.0                               0.0   \n",
       "1                               0.0                               0.0   \n",
       "2                               0.0                               0.0   \n",
       "3                               0.0                               0.0   \n",
       "4                               0.0                               0.0   \n",
       "\n",
       "   type_Internal Management  type_Mail - Input  type_Mail - Recieved  \\\n",
       "0                       0.0                0.0                   0.0   \n",
       "1                       0.0                0.0                   0.0   \n",
       "2                       0.0                0.0                   0.0   \n",
       "3                       0.0                0.0                   0.0   \n",
       "4                       0.0                0.0                   0.0   \n",
       "\n",
       "   type_Visit  type_Web - Input  \n",
       "0         0.0               0.0  \n",
       "1         0.0               1.0  \n",
       "2         0.0               0.0  \n",
       "3         0.0               1.0  \n",
       "4         0.0               0.0  "
      ]
     },
     "execution_count": 66,
     "metadata": {},
     "output_type": "execute_result"
    }
   ],
   "source": [
    "train_cont.head()"
   ]
  },
  {
   "cell_type": "code",
   "execution_count": 61,
   "metadata": {
    "collapsed": false
   },
   "outputs": [
    {
     "data": {
      "text/html": [
       "<div>\n",
       "<table border=\"1\" class=\"dataframe\">\n",
       "  <thead>\n",
       "    <tr style=\"text-align: right;\">\n",
       "      <th></th>\n",
       "      <th>Date</th>\n",
       "      <th>Contacts</th>\n",
       "      <th>ID</th>\n",
       "      <th>Month</th>\n",
       "      <th>Year</th>\n",
       "      <th>type_Call - Input</th>\n",
       "      <th>type_Fax - Input</th>\n",
       "      <th>type_Fax Acknowledgement - Input</th>\n",
       "      <th>type_Installation Report - Input</th>\n",
       "      <th>type_Internal Management</th>\n",
       "      <th>type_Mail - Input</th>\n",
       "      <th>type_Mail - Recieved</th>\n",
       "      <th>type_Visit</th>\n",
       "      <th>type_Web - Input</th>\n",
       "    </tr>\n",
       "  </thead>\n",
       "  <tbody>\n",
       "    <tr>\n",
       "      <th>0</th>\n",
       "      <td>1</td>\n",
       "      <td>NaN</td>\n",
       "      <td>1</td>\n",
       "      <td>1</td>\n",
       "      <td>2017</td>\n",
       "      <td>0.0</td>\n",
       "      <td>0.0</td>\n",
       "      <td>0.0</td>\n",
       "      <td>0.0</td>\n",
       "      <td>0.0</td>\n",
       "      <td>0.0</td>\n",
       "      <td>1.0</td>\n",
       "      <td>0.0</td>\n",
       "      <td>0.0</td>\n",
       "    </tr>\n",
       "    <tr>\n",
       "      <th>1</th>\n",
       "      <td>2</td>\n",
       "      <td>NaN</td>\n",
       "      <td>2</td>\n",
       "      <td>1</td>\n",
       "      <td>2017</td>\n",
       "      <td>0.0</td>\n",
       "      <td>0.0</td>\n",
       "      <td>0.0</td>\n",
       "      <td>0.0</td>\n",
       "      <td>0.0</td>\n",
       "      <td>0.0</td>\n",
       "      <td>1.0</td>\n",
       "      <td>0.0</td>\n",
       "      <td>0.0</td>\n",
       "    </tr>\n",
       "    <tr>\n",
       "      <th>2</th>\n",
       "      <td>3</td>\n",
       "      <td>NaN</td>\n",
       "      <td>3</td>\n",
       "      <td>1</td>\n",
       "      <td>2017</td>\n",
       "      <td>0.0</td>\n",
       "      <td>0.0</td>\n",
       "      <td>0.0</td>\n",
       "      <td>0.0</td>\n",
       "      <td>0.0</td>\n",
       "      <td>0.0</td>\n",
       "      <td>1.0</td>\n",
       "      <td>0.0</td>\n",
       "      <td>0.0</td>\n",
       "    </tr>\n",
       "    <tr>\n",
       "      <th>3</th>\n",
       "      <td>4</td>\n",
       "      <td>NaN</td>\n",
       "      <td>4</td>\n",
       "      <td>1</td>\n",
       "      <td>2017</td>\n",
       "      <td>0.0</td>\n",
       "      <td>0.0</td>\n",
       "      <td>0.0</td>\n",
       "      <td>0.0</td>\n",
       "      <td>0.0</td>\n",
       "      <td>0.0</td>\n",
       "      <td>1.0</td>\n",
       "      <td>0.0</td>\n",
       "      <td>0.0</td>\n",
       "    </tr>\n",
       "    <tr>\n",
       "      <th>4</th>\n",
       "      <td>5</td>\n",
       "      <td>NaN</td>\n",
       "      <td>5</td>\n",
       "      <td>1</td>\n",
       "      <td>2017</td>\n",
       "      <td>0.0</td>\n",
       "      <td>0.0</td>\n",
       "      <td>0.0</td>\n",
       "      <td>0.0</td>\n",
       "      <td>0.0</td>\n",
       "      <td>0.0</td>\n",
       "      <td>1.0</td>\n",
       "      <td>0.0</td>\n",
       "      <td>0.0</td>\n",
       "    </tr>\n",
       "  </tbody>\n",
       "</table>\n",
       "</div>"
      ],
      "text/plain": [
       "  Date  Contacts  ID Month  Year  type_Call - Input  type_Fax - Input  \\\n",
       "0    1       NaN   1     1  2017                0.0               0.0   \n",
       "1    2       NaN   2     1  2017                0.0               0.0   \n",
       "2    3       NaN   3     1  2017                0.0               0.0   \n",
       "3    4       NaN   4     1  2017                0.0               0.0   \n",
       "4    5       NaN   5     1  2017                0.0               0.0   \n",
       "\n",
       "   type_Fax Acknowledgement - Input  type_Installation Report - Input  \\\n",
       "0                               0.0                               0.0   \n",
       "1                               0.0                               0.0   \n",
       "2                               0.0                               0.0   \n",
       "3                               0.0                               0.0   \n",
       "4                               0.0                               0.0   \n",
       "\n",
       "   type_Internal Management  type_Mail - Input  type_Mail - Recieved  \\\n",
       "0                       0.0                0.0                   1.0   \n",
       "1                       0.0                0.0                   1.0   \n",
       "2                       0.0                0.0                   1.0   \n",
       "3                       0.0                0.0                   1.0   \n",
       "4                       0.0                0.0                   1.0   \n",
       "\n",
       "   type_Visit  type_Web - Input  \n",
       "0         0.0               0.0  \n",
       "1         0.0               0.0  \n",
       "2         0.0               0.0  \n",
       "3         0.0               0.0  \n",
       "4         0.0               0.0  "
      ]
     },
     "execution_count": 61,
     "metadata": {},
     "output_type": "execute_result"
    }
   ],
   "source": [
    "test_cont.head()"
   ]
  },
  {
   "cell_type": "code",
   "execution_count": 62,
   "metadata": {
    "collapsed": false
   },
   "outputs": [
    {
     "data": {
      "text/html": [
       "<div>\n",
       "<table border=\"1\" class=\"dataframe\">\n",
       "  <thead>\n",
       "    <tr style=\"text-align: right;\">\n",
       "      <th></th>\n",
       "      <th>Date</th>\n",
       "      <th>Resolution</th>\n",
       "      <th>Month</th>\n",
       "      <th>Year</th>\n",
       "      <th>cat_Commercial Claim</th>\n",
       "      <th>cat_Consultation</th>\n",
       "      <th>cat_Request</th>\n",
       "      <th>cat_Tecnical Claim</th>\n",
       "      <th>Sub</th>\n",
       "    </tr>\n",
       "  </thead>\n",
       "  <tbody>\n",
       "    <tr>\n",
       "      <th>0</th>\n",
       "      <td>1</td>\n",
       "      <td>1</td>\n",
       "      <td>8</td>\n",
       "      <td>2010</td>\n",
       "      <td>0.0</td>\n",
       "      <td>1.0</td>\n",
       "      <td>0.0</td>\n",
       "      <td>0.0</td>\n",
       "      <td>7</td>\n",
       "    </tr>\n",
       "    <tr>\n",
       "      <th>1</th>\n",
       "      <td>1</td>\n",
       "      <td>1</td>\n",
       "      <td>8</td>\n",
       "      <td>2010</td>\n",
       "      <td>0.0</td>\n",
       "      <td>0.0</td>\n",
       "      <td>0.0</td>\n",
       "      <td>1.0</td>\n",
       "      <td>13</td>\n",
       "    </tr>\n",
       "    <tr>\n",
       "      <th>2</th>\n",
       "      <td>1</td>\n",
       "      <td>1</td>\n",
       "      <td>8</td>\n",
       "      <td>2010</td>\n",
       "      <td>0.0</td>\n",
       "      <td>0.0</td>\n",
       "      <td>0.0</td>\n",
       "      <td>1.0</td>\n",
       "      <td>13</td>\n",
       "    </tr>\n",
       "    <tr>\n",
       "      <th>3</th>\n",
       "      <td>1</td>\n",
       "      <td>1</td>\n",
       "      <td>8</td>\n",
       "      <td>2010</td>\n",
       "      <td>0.0</td>\n",
       "      <td>0.0</td>\n",
       "      <td>0.0</td>\n",
       "      <td>1.0</td>\n",
       "      <td>13</td>\n",
       "    </tr>\n",
       "    <tr>\n",
       "      <th>4</th>\n",
       "      <td>1</td>\n",
       "      <td>1</td>\n",
       "      <td>8</td>\n",
       "      <td>2010</td>\n",
       "      <td>0.0</td>\n",
       "      <td>1.0</td>\n",
       "      <td>0.0</td>\n",
       "      <td>0.0</td>\n",
       "      <td>33</td>\n",
       "    </tr>\n",
       "  </tbody>\n",
       "</table>\n",
       "</div>"
      ],
      "text/plain": [
       "  Date  Resolution Month  Year  cat_Commercial Claim  cat_Consultation  \\\n",
       "0    1           1     8  2010                   0.0               1.0   \n",
       "1    1           1     8  2010                   0.0               0.0   \n",
       "2    1           1     8  2010                   0.0               0.0   \n",
       "3    1           1     8  2010                   0.0               0.0   \n",
       "4    1           1     8  2010                   0.0               1.0   \n",
       "\n",
       "   cat_Request  cat_Tecnical Claim  Sub  \n",
       "0          0.0                 0.0    7  \n",
       "1          0.0                 1.0   13  \n",
       "2          0.0                 1.0   13  \n",
       "3          0.0                 1.0   13  \n",
       "4          0.0                 0.0   33  "
      ]
     },
     "execution_count": 62,
     "metadata": {},
     "output_type": "execute_result"
    }
   ],
   "source": [
    "train_res.head()"
   ]
  },
  {
   "cell_type": "code",
   "execution_count": 63,
   "metadata": {
    "collapsed": false
   },
   "outputs": [
    {
     "data": {
      "text/html": [
       "<div>\n",
       "<table border=\"1\" class=\"dataframe\">\n",
       "  <thead>\n",
       "    <tr style=\"text-align: right;\">\n",
       "      <th></th>\n",
       "      <th>Date</th>\n",
       "      <th>Resolution</th>\n",
       "      <th>ID</th>\n",
       "      <th>Month</th>\n",
       "      <th>Year</th>\n",
       "      <th>cat_Commercial Claim</th>\n",
       "      <th>cat_Consultation</th>\n",
       "      <th>cat_Request</th>\n",
       "      <th>cat_Tecnical Claim</th>\n",
       "      <th>Sub</th>\n",
       "    </tr>\n",
       "  </thead>\n",
       "  <tbody>\n",
       "    <tr>\n",
       "      <th>0</th>\n",
       "      <td>1</td>\n",
       "      <td>NaN</td>\n",
       "      <td>1</td>\n",
       "      <td>1</td>\n",
       "      <td>2017</td>\n",
       "      <td>0.0</td>\n",
       "      <td>0.0</td>\n",
       "      <td>0.0</td>\n",
       "      <td>1.0</td>\n",
       "      <td>14</td>\n",
       "    </tr>\n",
       "    <tr>\n",
       "      <th>1</th>\n",
       "      <td>2</td>\n",
       "      <td>NaN</td>\n",
       "      <td>2</td>\n",
       "      <td>1</td>\n",
       "      <td>2017</td>\n",
       "      <td>0.0</td>\n",
       "      <td>0.0</td>\n",
       "      <td>0.0</td>\n",
       "      <td>1.0</td>\n",
       "      <td>14</td>\n",
       "    </tr>\n",
       "    <tr>\n",
       "      <th>2</th>\n",
       "      <td>3</td>\n",
       "      <td>NaN</td>\n",
       "      <td>3</td>\n",
       "      <td>1</td>\n",
       "      <td>2017</td>\n",
       "      <td>0.0</td>\n",
       "      <td>0.0</td>\n",
       "      <td>0.0</td>\n",
       "      <td>1.0</td>\n",
       "      <td>14</td>\n",
       "    </tr>\n",
       "    <tr>\n",
       "      <th>3</th>\n",
       "      <td>4</td>\n",
       "      <td>NaN</td>\n",
       "      <td>4</td>\n",
       "      <td>1</td>\n",
       "      <td>2017</td>\n",
       "      <td>0.0</td>\n",
       "      <td>0.0</td>\n",
       "      <td>0.0</td>\n",
       "      <td>1.0</td>\n",
       "      <td>14</td>\n",
       "    </tr>\n",
       "    <tr>\n",
       "      <th>4</th>\n",
       "      <td>5</td>\n",
       "      <td>NaN</td>\n",
       "      <td>5</td>\n",
       "      <td>1</td>\n",
       "      <td>2017</td>\n",
       "      <td>0.0</td>\n",
       "      <td>0.0</td>\n",
       "      <td>0.0</td>\n",
       "      <td>1.0</td>\n",
       "      <td>14</td>\n",
       "    </tr>\n",
       "  </tbody>\n",
       "</table>\n",
       "</div>"
      ],
      "text/plain": [
       "  Date  Resolution  ID Month  Year  cat_Commercial Claim  cat_Consultation  \\\n",
       "0    1         NaN   1     1  2017                   0.0               0.0   \n",
       "1    2         NaN   2     1  2017                   0.0               0.0   \n",
       "2    3         NaN   3     1  2017                   0.0               0.0   \n",
       "3    4         NaN   4     1  2017                   0.0               0.0   \n",
       "4    5         NaN   5     1  2017                   0.0               0.0   \n",
       "\n",
       "   cat_Request  cat_Tecnical Claim  Sub  \n",
       "0          0.0                 1.0   14  \n",
       "1          0.0                 1.0   14  \n",
       "2          0.0                 1.0   14  \n",
       "3          0.0                 1.0   14  \n",
       "4          0.0                 1.0   14  "
      ]
     },
     "execution_count": 63,
     "metadata": {},
     "output_type": "execute_result"
    }
   ],
   "source": [
    "test_res.head()"
   ]
  },
  {
   "cell_type": "code",
   "execution_count": 195,
   "metadata": {
    "collapsed": true
   },
   "outputs": [],
   "source": [
    "from sklearn.cross_validation import train_test_split\n",
    "from sklearn.linear_model import LinearRegression, Lasso, Ridge\n",
    "from sklearn.tree import DecisionTreeRegressor\n",
    "from sklearn.ensemble import AdaBoostRegressor, GradientBoostingRegressor, RandomForestRegressor\n",
    "from sklearn.cross_validation import cross_val_score\n",
    "from sklearn.metrics import mean_squared_error, mean_absolute_error, r2_score"
   ]
  },
  {
   "cell_type": "code",
   "execution_count": 255,
   "metadata": {
    "collapsed": false
   },
   "outputs": [],
   "source": [
    "X_cont = train_cont.drop(['Contacts'], axis=1)\n",
    "Y_cont = pd.DataFrame((train_cont['Contacts']+1).map(np.log10), columns=['Contacts'])\n",
    "Xtrain, Xtest, Ytrain, Ytest = train_test_split(X_cont, Y_cont, test_size=0.30, random_state=42)"
   ]
  },
  {
   "cell_type": "code",
   "execution_count": 256,
   "metadata": {
    "collapsed": false
   },
   "outputs": [],
   "source": [
    "lr = LinearRegression().fit(Xtrain, Ytrain)"
   ]
  },
  {
   "cell_type": "code",
   "execution_count": 258,
   "metadata": {
    "collapsed": false
   },
   "outputs": [
    {
     "name": "stdout",
     "output_type": "stream",
     "text": [
      "Train\n",
      "996.146229101\n",
      "Test\n",
      "984.028575515\n"
     ]
    }
   ],
   "source": [
    "print 'Train'\n",
    "print np.sqrt(mean_squared_error(pd.DataFrame(pow(10,lr.predict(Xtrain))-1, columns=['Predicted']), (pow(10,Ytrain)-1)))\n",
    "print 'Test'\n",
    "print np.sqrt(mean_squared_error(pd.DataFrame(pow(10,lr.predict(Xtest))-1, columns=['Predicted']), (pow(10,Ytest)-1)))"
   ]
  },
  {
   "cell_type": "code",
   "execution_count": 309,
   "metadata": {
    "collapsed": true
   },
   "outputs": [],
   "source": [
    "X_cont_test = pd.DataFrame(test_cont.drop(['Contacts', 'ID'], axis=1))"
   ]
  },
  {
   "cell_type": "code",
   "execution_count": 308,
   "metadata": {
    "collapsed": false
   },
   "outputs": [],
   "source": [
    "t1 = test_cont['ID']\n",
    "t2 = pd.DataFrame((pow(10,lr.predict(X_cont_test))-1), columns=['Contacts'])\n",
    "t = pd.concat([t1, t2], axis=1)\n",
    "t.to_csv('Contacts.csv', index=0)"
   ]
  },
  {
   "cell_type": "code",
   "execution_count": 166,
   "metadata": {
    "collapsed": false
   },
   "outputs": [],
   "source": [
    "dt = DecisionTreeRegressor().fit(Xtrain, Ytrain)"
   ]
  },
  {
   "cell_type": "code",
   "execution_count": 260,
   "metadata": {
    "collapsed": false
   },
   "outputs": [
    {
     "name": "stdout",
     "output_type": "stream",
     "text": [
      "Train\n",
      "429.279879116\n",
      "Test\n",
      "1059.44528287\n"
     ]
    }
   ],
   "source": [
    "print 'Train'\n",
    "print np.sqrt(mean_squared_error(pd.DataFrame(pow(10,dt.predict(Xtrain))-1, columns=['Predicted']), (pow(10,Ytrain)-1)))\n",
    "print 'Test'\n",
    "print np.sqrt(mean_squared_error(pd.DataFrame(pow(10,dt.predict(Xtest))-1, columns=['Predicted']), (pow(10,Ytest)-1)))"
   ]
  },
  {
   "cell_type": "code",
   "execution_count": 169,
   "metadata": {
    "collapsed": false
   },
   "outputs": [],
   "source": [
    "rf = RandomForestRegressor().fit(Xtrain, Ytrain)"
   ]
  },
  {
   "cell_type": "code",
   "execution_count": 261,
   "metadata": {
    "collapsed": false
   },
   "outputs": [
    {
     "name": "stdout",
     "output_type": "stream",
     "text": [
      "Train\n",
      "693.502374539\n",
      "Test\n",
      "1016.21096024\n"
     ]
    }
   ],
   "source": [
    "print 'Train'\n",
    "print np.sqrt(mean_squared_error(pd.DataFrame(pow(10,rf.predict(Xtrain))-1, columns=['Predicted']), (pow(10,Ytrain)-1)))\n",
    "print 'Test'\n",
    "print np.sqrt(mean_squared_error(pd.DataFrame(pow(10,rf.predict(Xtest))-1, columns=['Predicted']), (pow(10,Ytest)-1)))"
   ]
  },
  {
   "cell_type": "code",
   "execution_count": 171,
   "metadata": {
    "collapsed": true
   },
   "outputs": [],
   "source": [
    "ad = AdaBoostRegressor().fit(Xtrain, Ytrain)"
   ]
  },
  {
   "cell_type": "code",
   "execution_count": 262,
   "metadata": {
    "collapsed": false
   },
   "outputs": [
    {
     "name": "stdout",
     "output_type": "stream",
     "text": [
      "Train\n",
      "1058.94325514\n",
      "Test\n",
      "1047.73349581\n"
     ]
    }
   ],
   "source": [
    "print 'Train'\n",
    "print np.sqrt(mean_squared_error(pd.DataFrame(pow(10,ad.predict(Xtrain))-1, columns=['Predicted']), (pow(10,Ytrain)-1)))\n",
    "print 'Test'\n",
    "print np.sqrt(mean_squared_error(pd.DataFrame(pow(10,ad.predict(Xtest))-1, columns=['Predicted']), (pow(10,Ytest)-1)))"
   ]
  },
  {
   "cell_type": "code",
   "execution_count": 173,
   "metadata": {
    "collapsed": true
   },
   "outputs": [],
   "source": [
    "gbm = GradientBoostingRegressor().fit(Xtrain, Ytrain)"
   ]
  },
  {
   "cell_type": "code",
   "execution_count": 263,
   "metadata": {
    "collapsed": false
   },
   "outputs": [
    {
     "name": "stdout",
     "output_type": "stream",
     "text": [
      "Train\n",
      "992.884589243\n",
      "Test\n",
      "984.006120972\n"
     ]
    }
   ],
   "source": [
    "print 'Train'\n",
    "print np.sqrt(mean_squared_error(pd.DataFrame(pow(10,gbm.predict(Xtrain))-1, columns=['Predicted']), (pow(10,Ytrain)-1)))\n",
    "print 'Test'\n",
    "print np.sqrt(mean_squared_error(pd.DataFrame(pow(10,gbm.predict(Xtest))-1, columns=['Predicted']), (pow(10,Ytest)-1)))"
   ]
  },
  {
   "cell_type": "code",
   "execution_count": 222,
   "metadata": {
    "collapsed": false
   },
   "outputs": [],
   "source": [
    "pd.concat([pd.DataFrame(pow(10,gbm.predict(Xtrain))-1, columns=['Predicted']), \n",
    "           (pow(10,Ytrain)-1).reset_index().iloc[:,1]], axis=1).to_csv('cont.csv')"
   ]
  },
  {
   "cell_type": "code",
   "execution_count": 224,
   "metadata": {
    "collapsed": false
   },
   "outputs": [
    {
     "name": "stdout",
     "output_type": "stream",
     "text": [
      "992.884589243\n",
      "984.006120972\n"
     ]
    }
   ],
   "source": [
    "print np.sqrt(mean_squared_error(pd.DataFrame(pow(10,gbm.predict(Xtrain))-1, columns=['Predicted']), \n",
    "           (pow(10,Ytrain)-1).reset_index().iloc[:,1]))\n",
    "print np.sqrt(mean_squared_error(pd.DataFrame(pow(10,gbm.predict(Xtest))-1, columns=['Predicted']), \n",
    "           (pow(10,Ytest)-1).reset_index().iloc[:,1]))"
   ]
  },
  {
   "cell_type": "code",
   "execution_count": 225,
   "metadata": {
    "collapsed": false
   },
   "outputs": [
    {
     "name": "stdout",
     "output_type": "stream",
     "text": [
      "996.146229101\n",
      "984.028575515\n"
     ]
    }
   ],
   "source": [
    "print np.sqrt(mean_squared_error(pd.DataFrame(pow(10,lr.predict(Xtrain))-1, columns=['Predicted']), \n",
    "           (pow(10,Ytrain)-1).reset_index().iloc[:,1]))\n",
    "print np.sqrt(mean_squared_error(pd.DataFrame(pow(10,lr.predict(Xtest))-1, columns=['Predicted']), \n",
    "           (pow(10,Ytest)-1).reset_index().iloc[:,1]))"
   ]
  },
  {
   "cell_type": "code",
   "execution_count": 226,
   "metadata": {
    "collapsed": false
   },
   "outputs": [
    {
     "name": "stdout",
     "output_type": "stream",
     "text": [
      "1058.94325514\n",
      "1047.73349581\n"
     ]
    }
   ],
   "source": [
    "print np.sqrt(mean_squared_error(pd.DataFrame(pow(10,ad.predict(Xtrain))-1, columns=['Predicted']), \n",
    "           (pow(10,Ytrain)-1).reset_index().iloc[:,1]))\n",
    "print np.sqrt(mean_squared_error(pd.DataFrame(pow(10,ad.predict(Xtest))-1, columns=['Predicted']), \n",
    "           (pow(10,Ytest)-1).reset_index().iloc[:,1]))"
   ]
  },
  {
   "cell_type": "code",
   "execution_count": 227,
   "metadata": {
    "collapsed": false
   },
   "outputs": [],
   "source": [
    "X_cont = train_cont.drop(['Contacts'], axis=1)\n",
    "Y_cont = pd.DataFrame(train_cont['Contacts'], columns=['Contacts'])\n",
    "Xtrain, Xtest, Ytrain, Ytest = train_test_split(X_cont, Y_cont, test_size=0.30, random_state=42)"
   ]
  },
  {
   "cell_type": "code",
   "execution_count": 228,
   "metadata": {
    "collapsed": true
   },
   "outputs": [],
   "source": [
    "lr1 = LinearRegression().fit(Xtrain, Ytrain)"
   ]
  },
  {
   "cell_type": "code",
   "execution_count": 232,
   "metadata": {
    "collapsed": false
   },
   "outputs": [
    {
     "name": "stdout",
     "output_type": "stream",
     "text": [
      "1141.56701041\n",
      "1127.01434693\n"
     ]
    }
   ],
   "source": [
    "print np.sqrt(mean_squared_error(lr.predict(Xtrain), Ytrain))\n",
    "print np.sqrt(mean_squared_error(lr.predict(Xtest), Ytest))"
   ]
  },
  {
   "cell_type": "code",
   "execution_count": 234,
   "metadata": {
    "collapsed": false
   },
   "outputs": [],
   "source": [
    "X_res = train_res.drop(['Resolution'], axis=1)\n",
    "Y_res = pd.DataFrame((train_res['Resolution']+1).map(np.log10), columns=['Resolution'])\n",
    "Xtrain_r, Xtest_r, Ytrain_r, Ytest_r = train_test_split(X_res, Y_res, test_size=0.30, random_state=42)"
   ]
  },
  {
   "cell_type": "code",
   "execution_count": 235,
   "metadata": {
    "collapsed": true
   },
   "outputs": [],
   "source": [
    "lr_r = LinearRegression().fit(Xtrain_r, Ytrain_r)"
   ]
  },
  {
   "cell_type": "code",
   "execution_count": 236,
   "metadata": {
    "collapsed": false
   },
   "outputs": [
    {
     "name": "stdout",
     "output_type": "stream",
     "text": [
      "15.372322682\n",
      "15.0161491774\n"
     ]
    }
   ],
   "source": [
    "print np.sqrt(mean_squared_error(pd.DataFrame(pow(10,lr_r.predict(Xtrain_r))-1, columns=['Predicted']), \n",
    "           (pow(10,Ytrain_r)-1).reset_index().iloc[:,1]))\n",
    "print np.sqrt(mean_squared_error(pd.DataFrame(pow(10,lr_r.predict(Xtest_r))-1, columns=['Predicted']), \n",
    "           (pow(10,Ytest_r)-1).reset_index().iloc[:,1]))"
   ]
  },
  {
   "cell_type": "code",
   "execution_count": 241,
   "metadata": {
    "collapsed": true
   },
   "outputs": [],
   "source": [
    "X_res = train_res.drop(['Resolution'], axis=1)\n",
    "Y_res = pd.DataFrame(train_res['Resolution'], columns=['Resolution'])\n",
    "Xtrain_r, Xtest_r, Ytrain_r, Ytest_r = train_test_split(X_res, Y_res, test_size=0.30, random_state=42)"
   ]
  },
  {
   "cell_type": "code",
   "execution_count": 242,
   "metadata": {
    "collapsed": true
   },
   "outputs": [],
   "source": [
    "lr_r = LinearRegression().fit(Xtrain_r, Ytrain_r)"
   ]
  },
  {
   "cell_type": "code",
   "execution_count": 243,
   "metadata": {
    "collapsed": false
   },
   "outputs": [
    {
     "name": "stdout",
     "output_type": "stream",
     "text": [
      "15.2974378698\n",
      "14.9452498473\n"
     ]
    }
   ],
   "source": [
    "print np.sqrt(mean_squared_error(lr_r.predict(Xtrain_r), Ytrain_r))\n",
    "print np.sqrt(mean_squared_error(lr_r.predict(Xtest_r), Ytest_r))"
   ]
  },
  {
   "cell_type": "code",
   "execution_count": 310,
   "metadata": {
    "collapsed": true
   },
   "outputs": [],
   "source": [
    "X_res_test = pd.DataFrame(test_res.drop(['Resolution', 'ID'], axis=1))"
   ]
  },
  {
   "cell_type": "code",
   "execution_count": 312,
   "metadata": {
    "collapsed": false
   },
   "outputs": [],
   "source": [
    "t1 = test_res['ID']\n",
    "t2 = pd.DataFrame(lr_r.predict(X_res_test), columns=['Resoltuion'])\n",
    "t = pd.concat([t1, t2], axis=1)\n",
    "t.to_csv('Resolution.csv', index=0)"
   ]
  },
  {
   "cell_type": "code",
   "execution_count": null,
   "metadata": {
    "collapsed": true
   },
   "outputs": [],
   "source": []
  }
 ],
 "metadata": {
  "anaconda-cloud": {},
  "kernelspec": {
   "display_name": "Python [conda root]",
   "language": "python",
   "name": "conda-root-py"
  },
  "language_info": {
   "codemirror_mode": {
    "name": "ipython",
    "version": 2
   },
   "file_extension": ".py",
   "mimetype": "text/x-python",
   "name": "python",
   "nbconvert_exporter": "python",
   "pygments_lexer": "ipython2",
   "version": "2.7.12"
  }
 },
 "nbformat": 4,
 "nbformat_minor": 0
}
